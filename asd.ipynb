{
 "cells": [
  {
   "cell_type": "code",
   "execution_count": 84,
   "metadata": {},
   "outputs": [],
   "source": [
    "import cv2\n",
    "import numpy as np\n",
    "import matplotlib.pyplot as plt\n",
    "import os\n",
    "\n",
    "def show_img(img, text = 'a'):\n",
    "    cv2.imshow('f{text}', img)\n",
    "    #cv2.waitKey()\n",
    "    #cv2.destroyAllWindows()\n",
    "\n",
    "def getSubtractedImg(R, L_f):\n",
    "    sqrt_img = np.sqrt(np.power(np.add(R, np.multiply(L_f, -1)), 2))\n",
    "    sub_img  = np.clip(a = sqrt_img, a_min = 0, a_max = 255)\n",
    "    # sub_img = np.clip(a = np.add(R, np.multiply(L_f, -1)), a_min = 0, a_max = 255)\n",
    "    return np.uint8(sub_img)\n",
    "\n"
   ]
  },
  {
   "cell_type": "code",
   "execution_count": null,
   "metadata": {},
   "outputs": [],
   "source": [
    "subject_type = ['normal', 'moderate', 'severe']\n",
    "\n",
    "for type_ in subject_type:\n",
    "    subject_id = [subject for subject in os.listdir(f'./dataset/{type_}')]\n",
    "    for id_ in subject_id:\n",
    "        data_path    = f'./dataset/{type_}/{id_}/axial/'\n",
    "        files = [file for file in os.listdir(data_path) if file.endswith('.tif')]\n",
    "        imgs = []\n",
    "        for file in files:\n",
    "            imgs.append(cv2.imread(data_path+file, cv2.IMREAD_GRAYSCALE))\n",
    "        imgs = np.array(imgs)\n",
    "        for idx, img in enumerate(imgs):\n",
    "            R, L                = img[:, :256], np.fliplr(img[:, 256:])\n",
    "            simg                = getSubtractedImg(R, L)\n",
    "            new_img             = np.ndarray((512,768))\n",
    "            new_img[:,    :256] = simg\n",
    "            new_img[:, 256:512] = R\n",
    "            new_img[:, 512:768] = L\n",
    "            save_dir            = f'./subtracted/original/{type_}_{id_}/'\n",
    "            if not os.path.isdir(save_dir):\n",
    "                os.mkdir(save_dir)\n",
    "            cv2.imwrite(f'{save_dir}{idx}.png', new_img)"
   ]
  },
  {
   "cell_type": "code",
   "execution_count": 101,
   "metadata": {},
   "outputs": [
    {
     "name": "stderr",
     "output_type": "stream",
     "text": [
      "C:\\Users\\Kichang\\AppData\\Local\\Temp\\ipykernel_11848\\2862086407.py:12: RuntimeWarning: invalid value encountered in sqrt\n",
      "  sqrt_img = np.sqrt(np.power(np.add(R, np.multiply(L_f, -1)), 2))\n",
      "C:\\Users\\Kichang\\AppData\\Local\\Temp\\ipykernel_11848\\4260269931.py:14: RuntimeWarning: divide by zero encountered in log\n",
      "  magnitude_spectrum = 20*np.log(np.abs(shift))\n",
      "C:\\Users\\Kichang\\AppData\\Local\\Temp\\ipykernel_11848\\4260269931.py:4: RuntimeWarning: divide by zero encountered in log\n",
      "  magnitude_spectrum = 20*np.log(np.abs(fshift))\n"
     ]
    }
   ],
   "source": [
    "def fft_(img):\n",
    "    f = np.fft.fft2(img)\n",
    "    fshift = np.fft.fftshift(f)\n",
    "    magnitude_spectrum = 20*np.log(np.abs(fshift))\n",
    "    return magnitude_spectrum, fshift\n",
    "\n",
    "def HPF_(shift, val):\n",
    "    rows, cols               = shift.shape\n",
    "    crow,ccol = round(rows/2), round(cols/2)\n",
    "    shift[crow-int(val/2):crow+int(val/2), ccol-int(val/2):ccol+int(val/2)] = 0\n",
    "    ishift             = np.fft.ifftshift(shift)\n",
    "    back               = np.fft.ifft2(ishift) \n",
    "    back               = np.abs(back)\n",
    "    magnitude_spectrum = 20*np.log(np.abs(shift))\n",
    "    return back, magnitude_spectrum\n",
    "\n",
    "subject_type = ['normal', 'moderate', 'severe']\n",
    "\n",
    "start = 150\n",
    "\n",
    "for type_ in subject_type:\n",
    "    subject_id = [subject for subject in os.listdir(f'./dataset/{type_}')]\n",
    "    for id_ in subject_id:\n",
    "        data_path    = f'./dataset/{type_}/{id_}/axial/'\n",
    "        files = [file for file in os.listdir(data_path) if file.endswith('.tif')]\n",
    "        imgs = []\n",
    "        for file in files:\n",
    "            imgs.append(cv2.imread(data_path+file, cv2.IMREAD_GRAYSCALE))\n",
    "        imgs = np.array(imgs)\n",
    "        for idx, img in enumerate(imgs):\n",
    "            R, L                      = img[start:start+256, :256], np.fliplr(img[start:start+256, 256:])\n",
    "            S                         = getSubtractedImg(R, L)\n",
    "            new_img                   = np.ndarray((1024,768))\n",
    "            new_img[:256,    :256]    = S\n",
    "            new_img[:256, 256:512]    = R\n",
    "            new_img[:256, 512:   ]    = L\n",
    "            \n",
    "            S_fft, S_shift            = fft_(S)\n",
    "            R_fft, R_shift            = fft_(R)\n",
    "            L_fft, L_shift            = fft_(L)\n",
    "            new_img[256:512,    :256] = S_fft\n",
    "            new_img[256:512, 256:512] = R_fft\n",
    "            new_img[256:512, 512:   ] = L_fft\n",
    "            \n",
    "            S_back, S_HPF_fft         = HPF_(S_shift, 25)\n",
    "            R_back, R_HPF_fft         = HPF_(R_shift, 25)\n",
    "            L_back, L_HPF_fft         = HPF_(L_shift, 25)\n",
    "            \n",
    "            new_img[512:768,    :256] = S_back\n",
    "            new_img[512:768, 256:512] = R_back\n",
    "            new_img[512:768, 512:   ] = L_back\n",
    "            new_img[768:   ,    :256] = S_HPF_fft\n",
    "            new_img[768:   , 256:512] = R_HPF_fft\n",
    "            new_img[768:   , 512:   ] = L_HPF_fft\n",
    "            \n",
    "            \n",
    "            save_dir            = f'./fft/original/{type_}_{id_}/'\n",
    "            \n",
    "            if not os.path.isdir(save_dir):\n",
    "                os.mkdir(save_dir)\n",
    "            cv2.imwrite(f'{save_dir}{idx}.png', new_img)\n",
    "            "
   ]
  }
 ],
 "metadata": {
  "interpreter": {
   "hash": "d82ceccf901ac04e561a8b20b65d58a3146ea66c41359a70108f507557c1455e"
  },
  "kernelspec": {
   "display_name": "Python 3.9.12 ('venv': venv)",
   "language": "python",
   "name": "python3"
  },
  "language_info": {
   "codemirror_mode": {
    "name": "ipython",
    "version": 3
   },
   "file_extension": ".py",
   "mimetype": "text/x-python",
   "name": "python",
   "nbconvert_exporter": "python",
   "pygments_lexer": "ipython3",
   "version": "3.9.12"
  },
  "orig_nbformat": 4
 },
 "nbformat": 4,
 "nbformat_minor": 2
}
