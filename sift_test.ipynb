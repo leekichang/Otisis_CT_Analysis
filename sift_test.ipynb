{
 "cells": [
  {
   "cell_type": "code",
   "execution_count": 3,
   "metadata": {},
   "outputs": [],
   "source": [
    "import os\n",
    "import cv2\n",
    "import numpy as np\n",
    "import matplotlib.pyplot as plt\n",
    "import warnings\n",
    "warnings.filterwarnings(action = 'ignore')\n",
    "subject_type = ['normal', 'moderate', 'severe']\n",
    "\n",
    "sift = cv2.SIFT_create()\n",
    "\n",
    "imgs       = []\n",
    "labels     = []\n",
    "label_dict = {}\n",
    "count      = 4\n",
    "cmap       = plt.get_cmap('inferno')\n",
    "\n",
    "for type_ in subject_type:\n",
    "    subject_id = [subject for subject in os.listdir(f'./dataset/{type_}')]\n",
    "    for ix, id_ in enumerate(subject_id):\n",
    "        data_path    = f'./dataset/{type_}/{id_}/axial/'\n",
    "        files = [file for file in os.listdir(data_path) if file.endswith('.tif')]\n",
    "        for file in files:\n",
    "            imgs.append(cv2.imread(data_path+file, cv2.IMREAD_GRAYSCALE))\n",
    "            labels.append(type_+id_)\n",
    "            if type_+id_ not in label_dict:\n",
    "                label_dict[type_+id_] = cmap.colors[count*ix]"
   ]
  },
  {
   "cell_type": "code",
   "execution_count": 21,
   "metadata": {},
   "outputs": [],
   "source": [
    "sifts   = []\n",
    "kp, des = sift.detectAndCompute(imgs[0], None)"
   ]
  },
  {
   "cell_type": "code",
   "execution_count": 20,
   "metadata": {},
   "outputs": [
    {
     "name": "stdout",
     "output_type": "stream",
     "text": [
      "352.9205322265625 0.03421986848115921 2.6619560718536377 1217\n"
     ]
    }
   ],
   "source": [
    "print(kp[0].angle, kp[0].response, kp[0].size, len(kp))"
   ]
  }
 ],
 "metadata": {
  "interpreter": {
   "hash": "dfdb715faf54990fc3b324c4560ea10651795756b1d225a0d6cafaaa9a4a8cac"
  },
  "kernelspec": {
   "display_name": "Python 3.9.12 ('venv': venv)",
   "language": "python",
   "name": "python3"
  },
  "language_info": {
   "codemirror_mode": {
    "name": "ipython",
    "version": 3
   },
   "file_extension": ".py",
   "mimetype": "text/x-python",
   "name": "python",
   "nbconvert_exporter": "python",
   "pygments_lexer": "ipython3",
   "version": "3.9.12"
  },
  "orig_nbformat": 4
 },
 "nbformat": 4,
 "nbformat_minor": 2
}
